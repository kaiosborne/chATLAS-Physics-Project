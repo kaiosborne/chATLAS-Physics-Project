{
 "cells": [
  {
   "cell_type": "markdown",
   "id": "68d1d664-09eb-47a2-9db0-e8ee2c4a64d9",
   "metadata": {},
   "source": [
    "# Installation Guide"
   ]
  },
  {
   "cell_type": "markdown",
   "id": "7744bbbd-5712-466f-b988-3dbaa17df78d",
   "metadata": {},
   "source": [
    "## Step 1. Import of DB.json"
   ]
  },
  {
   "cell_type": "markdown",
   "id": "d2407e76-f9c2-4950-b4cf-3bf4756b5f12",
   "metadata": {},
   "source": [
    "1. Open the application program in Visual Studio Code"
   ]
  },
  {
   "cell_type": "markdown",
   "id": "bb51abd5-79c9-4337-8606-15c9abf6271e",
   "metadata": {},
   "source": [
    "2. Download \"DB.json\" file"
   ]
  },
  {
   "cell_type": "markdown",
   "id": "86281240-88b2-4c4a-bd44-52c8777a6e50",
   "metadata": {},
   "source": [
    "Here is the link for download: https://drive.google.com/file/d/1t0bILJT0PjPLLod9VLNRcSMfC0swdLH1/view?usp=drive_link"
   ]
  },
  {
   "cell_type": "markdown",
   "id": "e821f88b-a01e-47ee-8ad9-d164e61b47fe",
   "metadata": {},
   "source": [
    "3. Extract \"DB.json\" in the same directory as \"app_chroma.py\""
   ]
  },
  {
   "cell_type": "markdown",
   "id": "5c03b0df-1933-43f1-a504-b971e2e7ed39",
   "metadata": {},
   "source": [
    "## Step 2. Installation of the virtual environment"
   ]
  },
  {
   "cell_type": "markdown",
   "id": "eee7ff9a-d026-4d13-9665-09f04ed8b5df",
   "metadata": {},
   "source": [
    "Here is the website link of the details of virtual environment: https://docs.python.org/3/library/venv.html"
   ]
  },
  {
   "cell_type": "markdown",
   "id": "c531b0a3-0f47-4ed7-a2e3-7ac796bf888c",
   "metadata": {},
   "source": [
    "1. Open the Terminal and make sure that the file location shown is the location of the total project folder"
   ]
  },
  {
   "cell_type": "markdown",
   "id": "5808195d-055d-47aa-9946-6e5bf6ff74ee",
   "metadata": {},
   "source": [
    "2. Create an environment and input the code in Terminal"
   ]
  },
  {
   "cell_type": "markdown",
   "id": "79cd9d86-ee7c-4569-ae4e-ab7fb3d6adf9",
   "metadata": {},
   "source": [
    "MacOS:"
   ]
  },
  {
   "cell_type": "markdown",
   "id": "8d95c6c9-eaeb-476f-9c23-04cf3b190ed7",
   "metadata": {},
   "source": [
    "$ python3 -m venv .venv"
   ]
  },
  {
   "cell_type": "markdown",
   "id": "d9cd9e7b-60f1-4b3b-8598-dd86cdfe64e4",
   "metadata": {},
   "source": [
    "Windows:"
   ]
  },
  {
   "cell_type": "markdown",
   "id": "ed964927-5162-41ce-a142-609eb7dab7da",
   "metadata": {},
   "source": [
    "> py -3 -m venv .venv"
   ]
  },
  {
   "cell_type": "markdown",
   "id": "b26e048b-25df-4c73-922d-db17817f2e75",
   "metadata": {},
   "source": [
    " 3. Activate the virtual environment until \".vene\" appears at the front of the terminal"
   ]
  },
  {
   "cell_type": "markdown",
   "id": "da85dcb0-54e6-4a90-8a9b-1ef94ce024cc",
   "metadata": {},
   "source": [
    "MacOS:"
   ]
  },
  {
   "cell_type": "markdown",
   "id": "57d4618d-f2ee-4797-999a-255dad0203d2",
   "metadata": {},
   "source": [
    "$ . .venv/bin/activate"
   ]
  },
  {
   "cell_type": "markdown",
   "id": "e4fd1bf8-c814-48f6-86e9-da8dd5e51a5a",
   "metadata": {},
   "source": [
    "Windows:"
   ]
  },
  {
   "cell_type": "markdown",
   "id": "8bcf80e8-d45d-4323-b713-671fdca8a7e8",
   "metadata": {},
   "source": [
    "> .venv\\Scripts\\activate"
   ]
  },
  {
   "cell_type": "markdown",
   "id": "7fa56854-cd5b-46d9-a257-d5e254ff5763",
   "metadata": {},
   "source": [
    "## Step 3. Installation of relative libraries"
   ]
  },
  {
   "cell_type": "markdown",
   "id": "c9db7a58-d01f-422c-913e-7c6a53b5723f",
   "metadata": {},
   "source": [
    "1. Install the following libraries : flask, chromadb, json, tqdm"
   ]
  },
  {
   "cell_type": "markdown",
   "id": "f6f29d1b-ad3d-4b61-a4e7-04b3f21fe653",
   "metadata": {},
   "source": [
    "You just need to input the code below in Terminal and wait for downloading:"
   ]
  },
  {
   "cell_type": "markdown",
   "id": "51ec45e3-2bf8-4f19-a605-94d3353d11b2",
   "metadata": {},
   "source": [
    "pip install flask"
   ]
  },
  {
   "cell_type": "markdown",
   "id": "6b51fb13-1116-4174-ba5a-e541bf565158",
   "metadata": {},
   "source": [
    "pip install chromadb"
   ]
  },
  {
   "cell_type": "raw",
   "id": "63c0a6d9-67af-4191-a51d-73683a8f726c",
   "metadata": {},
   "source": [
    "pip install json"
   ]
  },
  {
   "cell_type": "markdown",
   "id": "a7299768-3e46-43a9-a52d-9a64f27a80a9",
   "metadata": {},
   "source": [
    "pip install tqdm"
   ]
  },
  {
   "cell_type": "markdown",
   "id": "b3e68aa6-bc91-4b44-8f27-f0fe80ba470e",
   "metadata": {},
   "source": [
    "## Step 4. Operation of application"
   ]
  },
  {
   "cell_type": "markdown",
   "id": "68c6662c-b553-4085-8dce-e5a37f4c9312",
   "metadata": {},
   "source": [
    "1. Open and Run \"app_chroma.py\" in Visual Studio Code"
   ]
  },
  {
   "cell_type": "markdown",
   "id": "9262a273-9b89-4b09-89d8-1efb0b9b30b6",
   "metadata": {},
   "source": [
    "2. Wait for \"DB.json\" to be loaded"
   ]
  },
  {
   "cell_type": "markdown",
   "id": "5342e2d8-4840-48e1-897f-2cd8e64e4c0e",
   "metadata": {},
   "source": [
    "3. In the terminal there should be \"* Running on http://127.0.0.1:5001\""
   ]
  },
  {
   "cell_type": "markdown",
   "id": "5bd127f6-19cf-4583-9c14-bf148991662c",
   "metadata": {},
   "source": [
    "4. Copy and paste http://127.0.0.1:5001 onto web browser to run the app"
   ]
  }
 ],
 "metadata": {
  "kernelspec": {
   "display_name": "Python 3 (ipykernel)",
   "language": "python",
   "name": "python3"
  },
  "language_info": {
   "codemirror_mode": {
    "name": "ipython",
    "version": 3
   },
   "file_extension": ".py",
   "mimetype": "text/x-python",
   "name": "python",
   "nbconvert_exporter": "python",
   "pygments_lexer": "ipython3",
   "version": "3.12.4"
  }
 },
 "nbformat": 4,
 "nbformat_minor": 5

}
