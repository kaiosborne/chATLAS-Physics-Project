{
 "cells": [
  {
   "cell_type": "code",
   "execution_count": null,
   "id": "22a87df1",
   "metadata": {},
   "outputs": [],
   "source": [
    "pip install chromadb"
   ]
  },
  {
   "cell_type": "code",
   "execution_count": null,
   "id": "aa8a0937",
   "metadata": {},
   "outputs": [],
   "source": [
    "pip install chardet"
   ]
  },
  {
   "cell_type": "code",
   "execution_count": null,
   "id": "f73254be",
   "metadata": {},
   "outputs": [],
   "source": [
    "import chardet\n",
    "import json\n",
    "\n",
    "# Detect file encoding\n",
    "with open('generated-data.json', 'rb') as rawdata:\n",
    "    result = chardet.detect(rawdata.read())\n",
    "    encoding = result['encoding']"
   ]
  },
  {
   "cell_type": "code",
   "execution_count": null,
   "id": "1a605369",
   "metadata": {},
   "outputs": [],
   "source": [
    "import chromadb\n",
    "import json\n",
    "\n",
    "chroma_client = chromadb.Client()\n",
    "collection = chroma_client.create_collection(name=\"new2_collection\")\n",
    "\n",
    "# Step 1: Read the JSON file with explicit encoding\n",
    "with open('Rawdata.json', 'r', encoding='utf-8') as file:\n",
    "    data = json.load(file)\n",
    "\n",
    "# Step 2: Process the data\n",
    "documents = []\n",
    "metadatas = []\n",
    "ids = []\n",
    "\n",
    "for item in data:\n",
    "    # Check if required keys are present in the item\n",
    "    if 'caption' in item and 'mentioned' in item and 'Plots' in item and 'web location' in item:\n",
    "        # Concatenate caption and mentioned for the document\n",
    "        document = f\"{item['caption']} {item['mentioned']}\"\n",
    "        documents.append(document)\n",
    "\n",
    "        # Create metadata with Plots and web location\n",
    "        metadata = {\"mentioned\": item[\"mentioned\"], \"Plots\": item[\"Plots\"], \"web_location\": item[\"web location\"]}\n",
    "        metadatas.append(metadata)\n",
    "\n",
    "        # Use Plots value as the ID\n",
    "        ids.append(item[\"Plots\"])\n",
    "    else:\n",
    "        # Handle the case where required keys are missing for an item\n",
    "        print(f\"Skipping item due to missing keys: {item}\")\n",
    "\n",
    "# Step 3: Use the structured data with collection.add\n",
    "collection.add(documents=documents, metadatas=metadatas, ids=ids)\n"
   ]
  },
  {
   "cell_type": "code",
   "execution_count": null,
   "id": "b5910279",
   "metadata": {},
   "outputs": [],
   "source": [
    "results = collection.query(\n",
    "    query_texts=[\"this is our document\"],\n",
    "    n_results=3\n",
    ")"
   ]
  },
  {
   "cell_type": "code",
   "execution_count": null,
   "id": "9b5f3f09",
   "metadata": {},
   "outputs": [],
   "source": [
    "print(results)"
   ]
  },
  {
   "cell_type": "code",
   "execution_count": null,
   "id": "a8fbb8d9",
   "metadata": {},
   "outputs": [],
   "source": [
    "import matplotlib.pyplot as plt\n",
    "import urllib\n",
    "from PIL import Image\n",
    "\n",
    "# Extract information from the results dictionary\n",
    "ids = results['ids'][0]\n",
    "distances = results['distances'][0]\n",
    "metadatas = results['metadatas'][0]\n",
    "web_location = metadatas[0]['web_location']\n",
    "caption = metadatas[0]['Plots']\n",
    "paragraphs = metadatas[0]['mentioned']\n",
    "\n",
    "# Print captions and save URL and captions of paragraphs\n",
    "print(f\"Caption: {caption}\")\n",
    "print(f\"Web Location: {web_location}\")\n",
    "print(\"Paragraphs:\")\n",
    "for paragraph in paragraphs.split('. '):\n",
    "    print(paragraph)\n",
    "\n",
    "# Download and display the picture\n",
    "image_url = web_location\n",
    "image_path = 'temp_image.png'\n",
    "urllib.request.urlretrieve(image_url, image_path)\n",
    "img = Image.open(image_path)\n",
    "plt.imshow(img)\n",
    "plt.axis('off')\n",
    "plt.show()\n"
   ]
  },
  {
   "cell_type": "code",
   "execution_count": null,
   "id": "b41d6f3d",
   "metadata": {},
   "outputs": [],
   "source": []
  },
  {
   "cell_type": "code",
   "execution_count": null,
   "id": "c1c3df6a",
   "metadata": {},
   "outputs": [],
   "source": []
  }
 ],
 "metadata": {
  "kernelspec": {
   "display_name": "Python 3",
   "language": "python",
   "name": "python3"
  },
  "language_info": {
   "codemirror_mode": {
    "name": "ipython",
    "version": 3
   },
   "file_extension": ".py",
   "mimetype": "text/x-python",
   "name": "python",
   "nbconvert_exporter": "python",
   "pygments_lexer": "ipython3",
   "version": "3.8.8"
  }
 },
 "nbformat": 4,
 "nbformat_minor": 5
}
