{
 "cells": [
  {
   "cell_type": "code",
   "outputs": [
    {
     "name": "stdout",
     "output_type": "stream",
     "text": [
      "Figure 1: Figure 1: Distributions of the scalar sum of the \\(p_{\\rm T}\\) of all jets in the event, \\(H_{\\rm T}\\), for different inclusive jet multiplicities \\(N_{\\rm jet}\\) for 20.3 fb\\({}^{-1}\\) of collision data and MC simulations of SM processes. The uncertainties on the data and ratio points are due to the statistical uncertainty of the data only. The SM contributions to the background are normalised relative to their nominal cross sections and then the total background is normalised to the number of data events in the region \\(1.5<H_{\\rm T}<2.9\\) TeV for each inclusive jet multiplicity.\n",
      "\n",
      "Figure 4: Figure 4: The \\(H_{\\rm T}\\) distributions, showing the data and extrapolated fits from the control region \\(1.5<H_{\\rm T}<2.9\\) TeV into the signal region \\(H_{\\rm T}>3.0\\) for each inclusive jet multiplicity \\(N_{\\rm jet}\\). The uncertainty on the data points in both the distribution and ratio are due to the statistical uncertainty on the data only. The uncertainty band includes all uncertainties on the background prediction. Also shown are the expected black hole signals for three parameter sets of the CHARYBDIS2 non-rotating black hole model.\n",
      "\n",
      "Figure 5: Figure 5: Upper limits on the visible cross section (cross section (\\(\\sigma\\)) times acceptance (\\(A\\)) times efficiency (\\(\\epsilon\\))) at the 95% CL versus inclusive \\(H_{\\rm T}\\) for different inclusive jet multiplicities. The solid (dashed) lines correspond to the observed (expected) upper limits. The green (dark) and yellow (light) bands represent one and two standard deviations from the expected limits.\n",
      "\n",
      "Figure 6: Figure 6: Exclusion contours in the \\(M_{\\rm th}\\)–\\(M_{D}\\) plane for different black hole models in two, four, and six extra dimensions simulated with CHARYBDIS2. The solid (dashed) lines show the observed (expected) 95% CL limits. Masses below the corresponding lines are excluded. Lines of fixed \\(M_{\\rm th}/M_{D}\\) (defined as \\(k\\)) are shown. The assumptions of the models are valid for \\(k\\gg 1\\).\n",
      "\n",
      "Figure 7: Figure 7: Exclusion contours in the \\(M_{\\rm th}\\)–\\(M_{\\rm s}\\) plane for non-rotating and rotating string ball models simulated with CHARYBDIS2. The solid (dashed) lines show the observed (expected) 95% CL limits. Masses below the corresponding lines are excluded. Lines of fixed \\(M_{\\rm th}/M_{\\rm s}\\) (defined as \\(k\\)) are shown. The assumptions of the models are valid for \\(k\\gg 1\\).\n",
      "\n",
      "Figure 8: Figure 8: Exclusion contours in the \\(M_{\\rm th}\\)–\\(M_{D}\\) plane for different black hole models in two, four, and six extra dimensions simulated with BlackMax. The solid (dashed) lines show the observed (expected) 95% CL limits. Masses below the corresponding lines are excluded. Lines of fixed \\(M_{\\rm th}/M_{D}\\) (defined as \\(k\\)) are shown. The assumptions of the models are valid for \\(k\\gg 1\\).\n",
      "\n",
      "Caption for Figure 1 saved in captions/_\n",
      "Caption for Figure 4 saved in captions/_\n",
      "Caption for Figure 5 saved in captions/_\n",
      "Caption for Figure 6 saved in captions/_\n",
      "Caption for Figure 7 saved in captions/_\n",
      "Caption for Figure 8 saved in captions/_\n"
     ]
    }
   ],
   "source": [
    "import re\n",
    "def extract_figures(file_path):\n",
    "    # Define the regular expression for the pattern\n",
    "    pattern = r'^Figure (\\d+):'\n",
    "    \n",
    "    # Store the results\n",
    "    figures = {}\n",
    "    \n",
    "    # Read the content of the file and process line by line\n",
    "    with open(file_path, 'r') as file:\n",
    "        for line in file:\n",
    "            # Check if the line starts with the pattern\n",
    "            if re.match(pattern, line):\n",
    "                # Extract the figure number\n",
    "                figure_number = re.search(pattern, line).group(1)\n",
    "                \n",
    "                # Store the line (or paragraph) associated with this figure number\n",
    "                figures[f'Figure {figure_number}'] = line.strip()\n",
    "    \n",
    "    return figures\n",
    "\n",
    "# File path\n",
    "file_path = 'enter_your_text_file_here.txt'\n",
    "\n",
    "# Extract figures and their texts\n",
    "figures = extract_figures(file_path)\n",
    "\n",
    "# Print the results\n",
    "for figure, text in figures.items():\n",
    "    print(f'{figure}: {text}\\n')\n",
    "\n",
    "import os\n",
    "\n",
    "# Define the subfolder name\n",
    "subfolder = 'captions'\n",
    "\n",
    "# Ensure the subfolder exists\n",
    "os.makedirs(subfolder, exist_ok=True)\n",
    "\n",
    "# Extract figures and their texts\n",
    "figures = extract_figures(file_path)\n",
    "\n",
    "# Save each caption in the subfolder\n",
    "for figure, text in figures.items():\n",
    "    # Define the filename for the current figure\n",
    "    filename = os.path.join(subfolder, '_')\n",
    "    \n",
    "    # Save the text in the file\n",
    "    with open(filename, 'w') as file:\n",
    "        file.write(text)\n",
    "    \n",
    "    print(f'Caption for {figure} saved in {filename}')"
   ],
   "metadata": {
    "collapsed": false,
    "ExecuteTime": {
     "end_time": "2024-01-28T22:31:42.629670Z",
     "start_time": "2024-01-28T22:31:42.624806Z"
    }
   },
   "id": "6d59e3603a0e6db4",
   "execution_count": 1
  },
  {
   "cell_type": "markdown",
   "source": [
    "Please note that some captions are missing because the text file is incomplete and missing some pages."
   ],
   "metadata": {
    "collapsed": false
   },
   "id": "5d29a5d6cc61505"
  }
 ],
 "metadata": {
  "kernelspec": {
   "display_name": "Python 3",
   "language": "python",
   "name": "python3"
  },
  "language_info": {
   "codemirror_mode": {
    "name": "ipython",
    "version": 2
   },
   "file_extension": ".py",
   "mimetype": "text/x-python",
   "name": "python",
   "nbconvert_exporter": "python",
   "pygments_lexer": "ipython2",
   "version": "2.7.6"
  }
 },
 "nbformat": 4,
 "nbformat_minor": 5
}
